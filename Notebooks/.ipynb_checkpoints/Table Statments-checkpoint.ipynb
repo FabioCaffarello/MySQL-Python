{
 "cells": [
  {
   "cell_type": "markdown",
   "metadata": {},
   "source": [
    "# Import Libraries"
   ]
  },
  {
   "cell_type": "code",
   "execution_count": 1,
   "metadata": {
    "ExecuteTime": {
     "end_time": "2020-11-01T01:00:51.042108Z",
     "start_time": "2020-11-01T01:00:50.880214Z"
    }
   },
   "outputs": [],
   "source": [
    "import mysql.connector as mysql\n",
    "import os #because of the environment variables (user_MySQL and passwd_MySQL)"
   ]
  },
  {
   "cell_type": "markdown",
   "metadata": {
    "ExecuteTime": {
     "end_time": "2020-11-01T00:52:04.031358Z",
     "start_time": "2020-11-01T00:52:04.013345Z"
    }
   },
   "source": [
    "# Setting the environment variables (user_MySQL and passwd_MySQL)"
   ]
  },
  {
   "cell_type": "code",
   "execution_count": 2,
   "metadata": {
    "ExecuteTime": {
     "end_time": "2020-11-01T01:00:52.667485Z",
     "start_time": "2020-11-01T01:00:52.651267Z"
    }
   },
   "outputs": [],
   "source": [
    "user_MySQL = os.environ.get('MYSQL_USER')\n",
    "passwd_MySQL = os.environ.get('MYSQL_PASSWORD')"
   ]
  },
  {
   "cell_type": "markdown",
   "metadata": {},
   "source": [
    "# Connection"
   ]
  },
  {
   "cell_type": "code",
   "execution_count": 3,
   "metadata": {
    "ExecuteTime": {
     "end_time": "2020-11-01T01:00:53.706346Z",
     "start_time": "2020-11-01T01:00:53.692308Z"
    }
   },
   "outputs": [],
   "source": [
    "conn = mysql.connect(\n",
    "                host = 'localhost',\n",
    "                user = user_MySQL,\n",
    "                passwd = passwd_MySQL\n",
    "                )"
   ]
  },
  {
   "cell_type": "markdown",
   "metadata": {},
   "source": [
    "# Creating Databases"
   ]
  },
  {
   "cell_type": "markdown",
   "metadata": {},
   "source": [
    "## Creating Cursor"
   ]
  },
  {
   "cell_type": "code",
   "execution_count": 4,
   "metadata": {
    "ExecuteTime": {
     "end_time": "2020-11-01T01:00:55.202861Z",
     "start_time": "2020-11-01T01:00:55.194882Z"
    }
   },
   "outputs": [],
   "source": [
    "cur = conn.cursor()"
   ]
  },
  {
   "cell_type": "markdown",
   "metadata": {},
   "source": [
    "## Creating Databease"
   ]
  },
  {
   "cell_type": "code",
   "execution_count": 5,
   "metadata": {
    "ExecuteTime": {
     "end_time": "2020-11-01T01:00:56.397500Z",
     "start_time": "2020-11-01T01:00:56.375255Z"
    }
   },
   "outputs": [],
   "source": [
    "cur.execute('CREATE DATABASE study_example')"
   ]
  },
  {
   "cell_type": "code",
   "execution_count": null,
   "metadata": {
    "ExecuteTime": {
     "end_time": "2020-11-01T01:00:15.794351Z",
     "start_time": "2020-11-01T01:00:15.709449Z"
    }
   },
   "outputs": [],
   "source": [
    "#cur.execute('DROP DATABASE study_example')"
   ]
  }
 ],
 "metadata": {
  "kernelspec": {
   "display_name": "Python 3",
   "language": "python",
   "name": "python3"
  },
  "language_info": {
   "codemirror_mode": {
    "name": "ipython",
    "version": 3
   },
   "file_extension": ".py",
   "mimetype": "text/x-python",
   "name": "python",
   "nbconvert_exporter": "python",
   "pygments_lexer": "ipython3",
   "version": "3.8.3"
  },
  "toc": {
   "base_numbering": 1,
   "nav_menu": {},
   "number_sections": true,
   "sideBar": true,
   "skip_h1_title": false,
   "title_cell": "Table of Contents",
   "title_sidebar": "Contents",
   "toc_cell": false,
   "toc_position": {
    "height": "763px",
    "left": "650px",
    "top": "170px",
    "width": "384px"
   },
   "toc_section_display": true,
   "toc_window_display": true
  }
 },
 "nbformat": 4,
 "nbformat_minor": 4
}
