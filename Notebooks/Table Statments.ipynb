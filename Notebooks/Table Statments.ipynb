{
 "cells": [
  {
   "cell_type": "markdown",
   "metadata": {},
   "source": [
    "# Import Libraries"
   ]
  },
  {
   "cell_type": "code",
   "execution_count": 1,
   "metadata": {
    "ExecuteTime": {
     "end_time": "2020-11-01T02:23:07.754456Z",
     "start_time": "2020-11-01T02:23:07.418751Z"
    }
   },
   "outputs": [],
   "source": [
    "import mysql.connector as mysql\n",
    "import os #because of the environment variables (user_MySQL and passwd_MySQL)"
   ]
  },
  {
   "cell_type": "markdown",
   "metadata": {
    "ExecuteTime": {
     "end_time": "2020-11-01T00:52:04.031358Z",
     "start_time": "2020-11-01T00:52:04.013345Z"
    }
   },
   "source": [
    "# Setting the environment variables (user_MySQL and passwd_MySQL)"
   ]
  },
  {
   "cell_type": "code",
   "execution_count": 2,
   "metadata": {
    "ExecuteTime": {
     "end_time": "2020-11-01T02:23:08.711544Z",
     "start_time": "2020-11-01T02:23:08.699731Z"
    }
   },
   "outputs": [],
   "source": [
    "user_MySQL = os.environ.get('MYSQL_USER')\n",
    "passwd_MySQL = os.environ.get('MYSQL_PASSWORD')"
   ]
  },
  {
   "cell_type": "markdown",
   "metadata": {},
   "source": [
    "# Connection"
   ]
  },
  {
   "cell_type": "code",
   "execution_count": 3,
   "metadata": {
    "ExecuteTime": {
     "end_time": "2020-11-01T02:23:09.633879Z",
     "start_time": "2020-11-01T02:23:09.590547Z"
    }
   },
   "outputs": [],
   "source": [
    "conn = mysql.connect(\n",
    "                host = 'localhost',\n",
    "                user = user_MySQL,\n",
    "                passwd = passwd_MySQL,\n",
    "                database = 'study_example'\n",
    "                )"
   ]
  },
  {
   "cell_type": "markdown",
   "metadata": {},
   "source": [
    "# Creating Table"
   ]
  },
  {
   "cell_type": "markdown",
   "metadata": {},
   "source": [
    "## Creating Cursor"
   ]
  },
  {
   "cell_type": "code",
   "execution_count": 4,
   "metadata": {
    "ExecuteTime": {
     "end_time": "2020-11-01T02:23:10.911328Z",
     "start_time": "2020-11-01T02:23:10.904236Z"
    }
   },
   "outputs": [],
   "source": [
    "cur = conn.cursor()"
   ]
  },
  {
   "cell_type": "markdown",
   "metadata": {},
   "source": [
    "## Creating Table"
   ]
  },
  {
   "cell_type": "code",
   "execution_count": 5,
   "metadata": {
    "ExecuteTime": {
     "end_time": "2020-11-01T02:23:13.477616Z",
     "start_time": "2020-11-01T02:23:13.392475Z"
    }
   },
   "outputs": [],
   "source": [
    "cur.execute('CREATE Table student (id INT AUTO_INCREMENT PRIMARY KEY,\\\n",
    "                                    name VARCHAR(100),\\\n",
    "                                    age SMALLINT,\\\n",
    "                                    email VARCHAR(120) UNIQUE NOT NULL,\\\n",
    "                                    interest VARCHAR(100))')"
   ]
  },
  {
   "cell_type": "markdown",
   "metadata": {},
   "source": [
    "# Insert"
   ]
  },
  {
   "cell_type": "markdown",
   "metadata": {},
   "source": [
    "## Option 01 Insert one value (string)"
   ]
  },
  {
   "cell_type": "code",
   "execution_count": 6,
   "metadata": {
    "ExecuteTime": {
     "end_time": "2020-11-01T02:23:14.742707Z",
     "start_time": "2020-11-01T02:23:14.714306Z"
    }
   },
   "outputs": [],
   "source": [
    "cur.execute('INSERT INTO student (name, age, email, interest) VALUES \\\n",
    "                    (\"Jaime Lannister\", 36, \"jaime.lannister@got.com\", \"Data Science\")')"
   ]
  },
  {
   "cell_type": "markdown",
   "metadata": {},
   "source": [
    "## Option 02 Insert one value (variable)"
   ]
  },
  {
   "cell_type": "code",
   "execution_count": 7,
   "metadata": {
    "ExecuteTime": {
     "end_time": "2020-11-01T02:23:15.575129Z",
     "start_time": "2020-11-01T02:23:15.560166Z"
    }
   },
   "outputs": [],
   "source": [
    "query = 'INSERT INTO student (name, age, email, interest) VALUES (%s, %s, %s, %s)'\n",
    "value = (\"Jhon Snow\", 27 ,\"snowjhon@got.com\", \"Data Science\")"
   ]
  },
  {
   "cell_type": "code",
   "execution_count": 8,
   "metadata": {
    "ExecuteTime": {
     "end_time": "2020-11-01T02:23:15.998877Z",
     "start_time": "2020-11-01T02:23:15.977870Z"
    }
   },
   "outputs": [],
   "source": [
    "cur.execute(query,value)"
   ]
  },
  {
   "cell_type": "markdown",
   "metadata": {
    "ExecuteTime": {
     "end_time": "2020-11-01T01:23:05.037996Z",
     "start_time": "2020-11-01T01:23:05.031012Z"
    }
   },
   "source": [
    "## Option 03 (Insert one by one - Iteration)"
   ]
  },
  {
   "cell_type": "code",
   "execution_count": 9,
   "metadata": {
    "ExecuteTime": {
     "end_time": "2020-11-01T02:23:16.934189Z",
     "start_time": "2020-11-01T02:23:16.913904Z"
    }
   },
   "outputs": [],
   "source": [
    "query = 'INSERT INTO student (name, age, email, interest) VALUES (%s, %s, %s, %s)'\n",
    "values = [(\"Aria Stark\", 15 ,\"stark.aria@got.com\", \"Business Intelligence\"),\n",
    "         (\"Sansa Stark\", 23 ,\"stark.sansa@got.com\", \"DBA\"),\n",
    "         (\"Ned Stark\", 42 ,\"stark.ned@got.com\", \"Data Science\"),\n",
    "         (\"Cersei Lannister\", 34, \"cersei.lannister@got.com\", \"Business Intelligence\")]"
   ]
  },
  {
   "cell_type": "code",
   "execution_count": 10,
   "metadata": {
    "ExecuteTime": {
     "end_time": "2020-11-01T02:23:17.443440Z",
     "start_time": "2020-11-01T02:23:17.430320Z"
    }
   },
   "outputs": [],
   "source": [
    "for value in values:\n",
    "    cur.execute(query,value)"
   ]
  },
  {
   "cell_type": "markdown",
   "metadata": {},
   "source": [
    "## Option 04 (Bulk Insert)"
   ]
  },
  {
   "cell_type": "code",
   "execution_count": 11,
   "metadata": {
    "ExecuteTime": {
     "end_time": "2020-11-01T02:23:18.692108Z",
     "start_time": "2020-11-01T02:23:18.673355Z"
    }
   },
   "outputs": [],
   "source": [
    "query = 'INSERT INTO student (name, age, email, interest) VALUES (%s, %s, %s, %s)'\n",
    "values = [(\"Daenerys Targaryen\", 21 ,\"targaryen.daenerys@got.com\", \"Data Science\"),\n",
    "         (\"Robb Stark\", 22 ,\"stark.rob@got.com\", \"Business Intelligence\"),\n",
    "         (\"Tywin Lannister\", 23 ,\"tywin.lannister@got.com\", \"DBA\"),\n",
    "         (\"Jeor Mormont\", 35, \"jeor.mormont@got.com\", \"Business Intelligence\")]"
   ]
  },
  {
   "cell_type": "code",
   "execution_count": 12,
   "metadata": {
    "ExecuteTime": {
     "end_time": "2020-11-01T02:23:19.190825Z",
     "start_time": "2020-11-01T02:23:19.184757Z"
    }
   },
   "outputs": [],
   "source": [
    "cur.executemany(query,values)"
   ]
  },
  {
   "cell_type": "markdown",
   "metadata": {},
   "source": [
    "# Update"
   ]
  },
  {
   "cell_type": "code",
   "execution_count": 13,
   "metadata": {
    "ExecuteTime": {
     "end_time": "2020-11-01T02:23:20.749354Z",
     "start_time": "2020-11-01T02:23:20.743097Z"
    }
   },
   "outputs": [],
   "source": [
    "cur.execute('Update student SET email= \"tywin.lannister@got.com\" WHERE name=\"Tywin Lannister\"')"
   ]
  },
  {
   "cell_type": "markdown",
   "metadata": {},
   "source": [
    "# Delete"
   ]
  },
  {
   "cell_type": "code",
   "execution_count": 14,
   "metadata": {
    "ExecuteTime": {
     "end_time": "2020-11-01T02:23:21.607037Z",
     "start_time": "2020-11-01T02:23:21.585420Z"
    }
   },
   "outputs": [],
   "source": [
    "cur.execute('DELETE FROM student WHERE name = \"Robb Stark\"')"
   ]
  },
  {
   "cell_type": "markdown",
   "metadata": {
    "ExecuteTime": {
     "end_time": "2020-11-01T01:54:25.367671Z",
     "start_time": "2020-11-01T01:54:25.359747Z"
    }
   },
   "source": [
    "# Select"
   ]
  },
  {
   "cell_type": "code",
   "execution_count": 15,
   "metadata": {
    "ExecuteTime": {
     "end_time": "2020-11-01T02:23:22.405734Z",
     "start_time": "2020-11-01T02:23:22.390257Z"
    }
   },
   "outputs": [],
   "source": [
    "cur.execute('SELECT * FROM student')\n",
    "students = cur.fetchall()"
   ]
  },
  {
   "cell_type": "code",
   "execution_count": 16,
   "metadata": {
    "ExecuteTime": {
     "end_time": "2020-11-01T02:23:23.200251Z",
     "start_time": "2020-11-01T02:23:23.182156Z"
    }
   },
   "outputs": [
    {
     "name": "stdout",
     "output_type": "stream",
     "text": [
      "(1, 'Jaime Lannister', 36, 'jaime.lannister@got.com', 'Data Science')\n",
      "(2, 'Jhon Snow', 27, 'snowjhon@got.com', 'Data Science')\n",
      "(3, 'Aria Stark', 15, 'stark.aria@got.com', 'Business Intelligence')\n",
      "(4, 'Sansa Stark', 23, 'stark.sansa@got.com', 'DBA')\n",
      "(5, 'Ned Stark', 42, 'stark.ned@got.com', 'Data Science')\n",
      "(6, 'Cersei Lannister', 34, 'cersei.lannister@got.com', 'Business Intelligence')\n",
      "(7, 'Daenerys Targaryen', 21, 'targaryen.daenerys@got.com', 'Data Science')\n",
      "(9, 'Tywin Lannister', 23, 'tywin.lannister@got.com', 'DBA')\n",
      "(10, 'Jeor Mormont', 35, 'jeor.mormont@got.com', 'Business Intelligence')\n"
     ]
    }
   ],
   "source": [
    "for student in students:\n",
    "    print(student)"
   ]
  },
  {
   "cell_type": "code",
   "execution_count": 17,
   "metadata": {
    "ExecuteTime": {
     "end_time": "2020-11-01T02:23:24.542147Z",
     "start_time": "2020-11-01T02:23:24.528187Z"
    }
   },
   "outputs": [
    {
     "name": "stdout",
     "output_type": "stream",
     "text": [
      "(5, 'Ned Stark', 42, 'stark.ned@got.com', 'Data Science')\n"
     ]
    }
   ],
   "source": [
    "cur.execute('SELECT * FROM student WHERE email = \"stark.ned@got.com\"')\n",
    "student = cur.fetchone()\n",
    "print(student)"
   ]
  },
  {
   "cell_type": "code",
   "execution_count": 18,
   "metadata": {
    "ExecuteTime": {
     "end_time": "2020-11-01T02:23:25.931218Z",
     "start_time": "2020-11-01T02:23:25.913483Z"
    }
   },
   "outputs": [
    {
     "data": {
      "text/plain": [
       "[('Data Science',), ('Business Intelligence',), ('DBA',)]"
      ]
     },
     "execution_count": 18,
     "metadata": {},
     "output_type": "execute_result"
    }
   ],
   "source": [
    "cur.execute(\"SELECT DISTINCT interest FROM student\")\n",
    "cur.fetchall()"
   ]
  },
  {
   "cell_type": "markdown",
   "metadata": {
    "ExecuteTime": {
     "end_time": "2020-11-01T02:12:26.591311Z",
     "start_time": "2020-11-01T02:12:26.573748Z"
    }
   },
   "source": [
    "# Upsert (Insert or Update)"
   ]
  },
  {
   "cell_type": "code",
   "execution_count": 19,
   "metadata": {
    "ExecuteTime": {
     "end_time": "2020-11-01T02:23:26.957120Z",
     "start_time": "2020-11-01T02:23:26.935221Z"
    }
   },
   "outputs": [],
   "source": [
    "query = 'INSERT INTO student (name, age, email, interest) VALUES (%s, %s, %s, %s)\\\n",
    "                ON DUPLICATE KEY UPDATE \\\n",
    "                        name = name, age = age, email = email, interest = interest'\n",
    "\n",
    "values = [(\"Jaime Lannister\", 36, \"lannister.jaime@got.com\", \"Data Science\"),\n",
    "         (\"Ned Stark\", 42 ,\"stark.ned@got.com\", \"Data Science\"),\n",
    "         (\"Cersei Lannister\", 34, \"lannister.cersei@got.com\", \"Business Intelligence\")]"
   ]
  },
  {
   "cell_type": "code",
   "execution_count": 20,
   "metadata": {
    "ExecuteTime": {
     "end_time": "2020-11-01T02:23:27.590978Z",
     "start_time": "2020-11-01T02:23:27.572200Z"
    }
   },
   "outputs": [
    {
     "name": "stdout",
     "output_type": "stream",
     "text": [
      "[11, 0, 13]\n"
     ]
    }
   ],
   "source": [
    "lst_row_id = list()\n",
    "for value in values:\n",
    "    cur.execute(query,value)\n",
    "    row_id = cur.lastrowid\n",
    "    lst_row_id.append(row_id)\n",
    "print(lst_row_id)"
   ]
  },
  {
   "cell_type": "markdown",
   "metadata": {},
   "source": [
    "# Commit and Close Connection"
   ]
  },
  {
   "cell_type": "code",
   "execution_count": 21,
   "metadata": {
    "ExecuteTime": {
     "end_time": "2020-11-01T02:23:29.191258Z",
     "start_time": "2020-11-01T02:23:29.178297Z"
    }
   },
   "outputs": [],
   "source": [
    "conn.commit()"
   ]
  },
  {
   "cell_type": "markdown",
   "metadata": {},
   "source": [
    "# Drop Table"
   ]
  },
  {
   "cell_type": "code",
   "execution_count": 22,
   "metadata": {
    "ExecuteTime": {
     "end_time": "2020-11-01T02:23:30.410530Z",
     "start_time": "2020-11-01T02:23:30.349778Z"
    }
   },
   "outputs": [],
   "source": [
    "cur.execute('DROP TABLE student')"
   ]
  },
  {
   "cell_type": "markdown",
   "metadata": {},
   "source": [
    "# Close Connection"
   ]
  },
  {
   "cell_type": "code",
   "execution_count": 23,
   "metadata": {
    "ExecuteTime": {
     "end_time": "2020-11-01T02:23:31.456664Z",
     "start_time": "2020-11-01T02:23:31.450437Z"
    }
   },
   "outputs": [],
   "source": [
    "conn.close()"
   ]
  }
 ],
 "metadata": {
  "kernelspec": {
   "display_name": "Python 3",
   "language": "python",
   "name": "python3"
  },
  "language_info": {
   "codemirror_mode": {
    "name": "ipython",
    "version": 3
   },
   "file_extension": ".py",
   "mimetype": "text/x-python",
   "name": "python",
   "nbconvert_exporter": "python",
   "pygments_lexer": "ipython3",
   "version": "3.8.3"
  },
  "toc": {
   "base_numbering": 1,
   "nav_menu": {},
   "number_sections": true,
   "sideBar": true,
   "skip_h1_title": false,
   "title_cell": "Table of Contents",
   "title_sidebar": "Contents",
   "toc_cell": false,
   "toc_position": {
    "height": "763px",
    "left": "650px",
    "top": "170px",
    "width": "384px"
   },
   "toc_section_display": true,
   "toc_window_display": true
  }
 },
 "nbformat": 4,
 "nbformat_minor": 4
}
